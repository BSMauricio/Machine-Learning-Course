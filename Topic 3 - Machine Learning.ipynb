{
 "cells": [
  {
   "cell_type": "markdown",
   "id": "8c9efd8e",
   "metadata": {},
   "source": [
    "# Classification, Decision Trees, and k Nearest Neighbors"
   ]
  },
  {
   "cell_type": "markdown",
   "id": "8f866ab7",
   "metadata": {},
   "source": [
    "## 1. Introducción:"
   ]
  },
  {
   "cell_type": "markdown",
   "id": "5a353a4c",
   "metadata": {},
   "source": [
    "\"Se dice que un programa informático aprende de la experiencia E con respecto a alguna clase de tareas T y medida de rendimiento P, si su rendimiento en tareas en T, medido por P, mejora con la experiencia E.\""
   ]
  },
  {
   "cell_type": "markdown",
   "id": "07c24825",
   "metadata": {},
   "source": [
    "Aplicaciones:\n",
    "- clasificación de una instancia en una de las categorías en función de sus características.\n",
    "- Regresión: Predicción de una característica numérica objetivo basada en otras características de una instancia.\n",
    "- Agrupación (clustering): Identificación de particiones de instancias basadas en las características de dichas instancias, de modo que los miembros de los grupos sean más similares entre sí que los de los otros grupos."
   ]
  },
  {
   "cell_type": "markdown",
   "id": "967ee85e",
   "metadata": {},
   "source": [
    "La experiencia E se refiere a los datos (no podemos ir a ninguna parte sin ellos). Los algoritmos de aprendizaje automático pueden dividirse en aquellos que se entrenan de forma supervisada o no supervisada. En las tareas de aprendizaje no supervisado, se dispone de un conjunto formado por instancias descritas por un conjunto de características. En los problemas de aprendizaje supervisado, también hay una variable objetivo, que es lo que nos gustaría poder predecir, conocida para cada instancia de un conjunto de entrenamiento."
   ]
  },
  {
   "cell_type": "markdown",
   "id": "607825fa",
   "metadata": {},
   "source": [
    "## 2. Árbol de decisiones"
   ]
  },
  {
   "cell_type": "markdown",
   "id": "263ac8c3",
   "metadata": {},
   "source": [
    "Los árboles de decisión se utilizan en las decisiones de la vida cotidiana, no sólo en el aprendizaje automático. Los diagramas de flujo son en realidad representaciones visuales de los árboles de decisión. \n",
    "\n",
    "Un árbol de decisiones a menudo es una generalización de la experiencia de los expertos, un medio para compartir conocimiento de un proceso particular."
   ]
  },
  {
   "cell_type": "markdown",
   "id": "0cb0a581",
   "metadata": {},
   "source": [
    "El árbol de decisiones como algoritmo de aprendizaje automático es esencialmente lo mismo que el diagrama mostrado anteriormente; incorporamos una serie de reglas lógicas del tipo \"el valor de la característica es menor que X y el valor de la característica es menor que Y... => Categoría 1\" en una estructura de datos similar a un árbol. La ventaja de este algoritmo es que son fácilmente interpretables. "
   ]
  },
  {
   "cell_type": "markdown",
   "id": "6ecb31c9",
   "metadata": {},
   "source": [
    "Muchos otros modelos, aunque más precisos, no tienen esta propiedad y pueden considerarse más como un enfoque de \"black box\", donde es más difícil interpretar cómo los datos de entrada se transformaron en la salida. Debido a esta \"comprensibilidad\" y a su similitud con la toma de decisiones humanas, los árboles de decisión han ganado una inmensa popularidad."
   ]
  },
  {
   "cell_type": "markdown",
   "id": "97cde4bb",
   "metadata": {},
   "source": [
    "### Cómo hacer un árbol de decisiones"
   ]
  },
  {
   "cell_type": "markdown",
   "id": "4ed40ee0",
   "metadata": {},
   "source": [
    "En el juego de las \"20 Preguntas,\" el adivinador busca hacer la pregunta inicial que maximice la reducción en las opciones posibles. Por ejemplo, preguntar el género de la celebridad reduce las posibilidades a la mitad, mientras que preguntar un nombre específico como \"¿Es Angelina Jolie?\" apenas reduce las opciones. Este enfoque se relaciona con el concepto de ganancia de información basada en la entropía en árboles de decisiones."
   ]
  },
  {
   "cell_type": "markdown",
   "id": "c642ec7f",
   "metadata": {},
   "source": [
    "**Entropía**"
   ]
  },
  {
   "cell_type": "markdown",
   "id": "8dba98f4",
   "metadata": {},
   "source": [
    "La entropía de Shannon se define para un sistema con N estados posibles de la siguiente manera:"
   ]
  },
  {
   "cell_type": "markdown",
   "id": "e3fe9675",
   "metadata": {},
   "source": [
    "$$ S = -\\sum_{i=1}^{N} p_{i}Log_{2}p_{i}$$"
   ]
  },
  {
   "cell_type": "markdown",
   "id": "88076a89",
   "metadata": {},
   "source": [
    "Donde $p_{i}$ es la probabilidad de encontrar el sistema en el i-ésimo estado. Este es un concepto muy importante utilizado en física, teoría de la información y otras áreas. La entropía se puede describir como el grado de caos en el sistema. Cuanto mayor sea la entropía, menos ordenado estará el sistema y viceversa."
   ]
  },
  {
   "cell_type": "markdown",
   "id": "dcdced44",
   "metadata": {},
   "source": [
    "**Ejemplo**\n",
    "\n",
    "Supongamos que tenemos 20 pelotas en distintas posiciones, dentro de las cuáles 9 son azules y 11 son amarillas.\n",
    "Buscaremos predecir el color de la pelota en función de su posición.\n",
    "\n",
    "Hallando la probabilidad para cada una de ellas: "
   ]
  },
  {
   "cell_type": "markdown",
   "id": "31d6995f",
   "metadata": {},
   "source": [
    "![](https://mlcourse.ai/_images/decision_tree3.png)"
   ]
  },
  {
   "cell_type": "markdown",
   "id": "b53fe717",
   "metadata": {},
   "source": [
    "$p_{1} = 9/20$ - Probabilidad de sacar una pelota azul"
   ]
  },
  {
   "cell_type": "markdown",
   "id": "83927466",
   "metadata": {},
   "source": [
    "$p_{2} = 11/20$ - Probabilidad de sacar una pelota amarilla"
   ]
  },
  {
   "cell_type": "markdown",
   "id": "211f71c8",
   "metadata": {},
   "source": [
    "Hallando la entropía de Shannon para el sistema:"
   ]
  },
  {
   "cell_type": "markdown",
   "id": "1febb162",
   "metadata": {},
   "source": [
    "$$ S = -\\sum_{i=1}^{N} p_{i}Log_{2}p_{i} = -\\frac{9}{20}Log_{2}\\frac{9}{20} - \\frac{11}{20}Log_{2}\\frac{11}{20} \\approx 1$$"
   ]
  },
  {
   "cell_type": "markdown",
   "id": "4a9866ad",
   "metadata": {},
   "source": [
    "Ahora, vamos a agrupar por posiciones. En este caso, la pelotas que estén en posiciones menores o iguales a 12. Es decir, $X \\leq 12$"
   ]
  },
  {
   "cell_type": "markdown",
   "id": "a704eec5",
   "metadata": {},
   "source": [
    "![](https://mlcourse.ai/_images/topic3_entropy_balls2.png)"
   ]
  },
  {
   "cell_type": "markdown",
   "id": "8f48f529",
   "metadata": {},
   "source": [
    "Tendremos 2 grupos, $A$ que son las pelotas que son menores o iguales a 12 y $B$, que son las que no cumplen con la condició.\n",
    "\n",
    "Para $A$, tenemos que de un total de 13 pelotas, 5 pelotas con amarillas y 8, azules.\n",
    "\n",
    "Para $B$, tenemos que de un total de 7 pelotas, 6 pelotas con amarillas y 1, azul.\n",
    "\n",
    "Vamos a hallar las entropías para cada grupo:"
   ]
  },
  {
   "cell_type": "markdown",
   "id": "41b7b50f",
   "metadata": {},
   "source": [
    "$$S_A = -\\sum_{i=1}^{N} p_{i}Log_{2}p_{i} = -\\frac{5}{13}Log_{2}\\frac{5}{13} - \\frac{8}{13}Log_{2}\\frac{8}{13} \\approx 0.96$$\n",
    "\n",
    "$$S_B = -\\sum_{i=1}^{N} p_{i}Log_{2}p_{i} = -\\frac{1}{7}Log_{2}\\frac{1}{7} - \\frac{6}{7}Log_{2}\\frac{6}{7} \\approx 0.6$$"
   ]
  },
  {
   "cell_type": "markdown",
   "id": "5664b20e",
   "metadata": {},
   "source": [
    "La entropía ha disminuido en ambos grupos, y aún más en el grupo B. Dado que la entropía es, de hecho, el grado de caos (o incertidumbre) en el sistema, la reducción en la entropía se llama ganancia de información. Formalmente, la ganancia de información (IG) para una división basada en la variable Q (en este ejemplo es una variable \"$x \\leq 12$\") se define como:"
   ]
  },
  {
   "cell_type": "markdown",
   "id": "7868956f",
   "metadata": {},
   "source": [
    "$$IG(Q) = S_0 - \\sum_{i=1}^{q}\\frac{N_i}{N}S_i$$"
   ]
  },
  {
   "cell_type": "markdown",
   "id": "b911e24f",
   "metadata": {},
   "source": [
    "Donde $q$ es el número de grupos después de la división, $N$ es el número de objetos de la muestra en los que la variable $Q$ es igual al valor i-ésimo. En nuestro ejemplo, nuestra división generó dos grupos $q = 2$, uno con 13 elementos $N_A = 13$ y el otro con 7 $N_B = 7$. Por lo tanto, podemos calcular la ganancia de información como:"
   ]
  },
  {
   "cell_type": "markdown",
   "id": "78d83b2f",
   "metadata": {},
   "source": [
    "$$IG(x \\leq 12) = S_0 - \\frac{13}{20}S_A - \\frac{7}{20}S_B = 1 - \\frac{13}{20} 0.96 - \\frac{7}{20} 0.6 = 1 - 0.624 - 0.21 \\approx 0.166   $$"
   ]
  },
  {
   "cell_type": "markdown",
   "id": "dbd80a7c",
   "metadata": {},
   "source": [
    "\n",
    "Resulta que dividir las pelotas en dos grupos al dividir en \"coordenada es menor o igual a 12\" nos dio un sistema más ordenado. Continuemos dividiéndolas en grupos hasta que todas las pelotas en cada grupo sean del mismo color."
   ]
  },
  {
   "cell_type": "markdown",
   "id": "b183dd65",
   "metadata": {},
   "source": [
    "![](https://mlcourse.ai/_images/topic3_credit_scoring_entropy.png)"
   ]
  },
  {
   "cell_type": "markdown",
   "id": "ee29cc77",
   "metadata": {},
   "source": [
    "Para el grupo derecho ($B$), podemos ver fácilmente que solo necesitamos una partición adicional utilizando \"coordenada menor o igual a 18\". Sin embargo, para el grupo izquierdo ($A$), necesitamos tres más. Ten en cuenta que la entropía de un grupo en el que todas las pelotas son del mismo color es igual a 0 (entropía mínima).\n",
    "\n",
    "Hemos construido con éxito un árbol de decisiones que predice el color de la pelota en función de su posición. Este árbol de decisiones puede no funcionar bien si agregamos más pelotas, ya que se ha ajustado perfectamente al conjunto de entrenamiento (las 20 pelotas iniciales). Si quisiéramos que funcionara bien en ese caso, un árbol con menos \"preguntas\" o divisiones sería más preciso, incluso si no se ajusta perfectamente al conjunto de entrenamiento."
   ]
  },
  {
   "cell_type": "markdown",
   "id": "a89b0766",
   "metadata": {},
   "source": [
    "### Tree-building Algoritmo"
   ]
  },
  {
   "cell_type": "markdown",
   "id": "e296fede",
   "metadata": {},
   "source": [
    "En el corazón de los algoritmos populares para la construcción de árboles de decisión, como ID3 o C4.5, se encuentra el principio de la maximización ávida de la ganancia de información: en cada paso, el algoritmo elige la variable que proporciona la mayor ganancia de información al dividir. Luego, el procedimiento se repite recursivamente hasta que la entropía sea cero (o algún valor pequeño para tener en cuenta el sobreajuste). Diferentes algoritmos utilizan diferentes heurísticas para \"detenerse temprano\" o \"corte\" con el fin de evitar la construcción de un árbol sobreajustado."
   ]
  },
  {
   "cell_type": "code",
   "execution_count": 1,
   "id": "5269e96c",
   "metadata": {},
   "outputs": [],
   "source": [
    "def build(L):\n",
    "    # Crear un nodo de árbol t\n",
    "    t = Node()\n",
    "\n",
    "    # Comprobar si se cumple el criterio de parada\n",
    "    if stopping_criterion(L):\n",
    "        # Asignar un modelo predictivo a t\n",
    "        t.model = assign_predictive_model(L)\n",
    "    else:\n",
    "        # Encontrar la mejor división binaria L = L_left + L_right\n",
    "        L_left, L_right = find_best_split(L)\n",
    "        \n",
    "        # Construir recursivamente los subárboles izquierdo y derecho\n",
    "        t.left = build(L_left)\n",
    "        t.right = build(L_right)\n",
    "    \n",
    "    # Devolver el nodo del árbol t\n",
    "    return t"
   ]
  },
  {
   "cell_type": "markdown",
   "id": "882796cf",
   "metadata": {},
   "source": [
    "### Otros Criterios de Calidad para Divisiones en Problemas de Clasificación"
   ]
  },
  {
   "cell_type": "markdown",
   "id": "38187e14",
   "metadata": {},
   "source": [
    "Otros tipos de entropía:\n",
    "- Incertidumbre de Gini (Impureza de Gini): $G = 1 - \\sum_{k} (p_{k})^2$ Maximizar este criterio se puede interpretar como la maximización del número de pares de objetos de la misma clase que se encuentran en el mismo subárbol (no debe confundirse con el índice de Gini).\n",
    "- Error de clasificación: $E = 1 - \\max_{k}p_{k}$\n",
    "\n",
    "En la práctica, el error de clasificación casi nunca se utiliza, y la incertidumbre de Gini y la ganancia de información funcionan de manera similar."
   ]
  },
  {
   "cell_type": "markdown",
   "id": "36f394d3",
   "metadata": {},
   "source": [
    "Para la clasificación binaria, la entropía y la incertidumbre de Gini tienen la siguiente forma:"
   ]
  },
  {
   "cell_type": "markdown",
   "id": "6713522f",
   "metadata": {},
   "source": [
    "$S = -p_{+}Log_{2}p_{+}-p_{-}Log_{2}p_{-} = -p_{+}Log_{2}p_{+} - (1-p_{+})Log_{2}(1-p_{+})$\n",
    "\n",
    "$G = 1-p_{+}^2 - p_{-}^2 = 1 -p_{+}^2 - (1-p_{+})^2 = 2 p_{+}(1-p_{+})$"
   ]
  },
  {
   "cell_type": "markdown",
   "id": "668e0680",
   "metadata": {},
   "source": [
    "Donde: $p_{+}$ es la probabilidad de que un objeto tenga una etiqueta positiva.\n",
    "\n",
    "Si representamos gráficamente estas dos funciones en función del argumento $p_{+}$, veremos que el gráfico de la entropía es muy similar al gráfico de la incertidumbre de Gini multiplicado por dos. Por lo tanto, en la práctica, estos dos criterios son casi idénticos."
   ]
  },
  {
   "cell_type": "code",
   "execution_count": 2,
   "id": "72ac4d6a",
   "metadata": {},
   "outputs": [],
   "source": [
    "# we don't like warnings\n",
    "# you can comment the following 2 lines if you'd like to\n",
    "import warnings\n",
    "\n",
    "warnings.filterwarnings(\"ignore\")\n",
    "import numpy as np\n",
    "import pandas as pd\n",
    "import seaborn as sns\n",
    "\n",
    "sns.set()\n",
    "from matplotlib import pyplot as plt\n",
    "\n",
    "%config InlineBackend.figure_format = 'retina'"
   ]
  },
  {
   "cell_type": "code",
   "execution_count": 3,
   "id": "5c4e3a3d",
   "metadata": {},
   "outputs": [
    {
     "data": {
      "image/png": "[encoded data removed]",
      "text/plain": [
       "<Figure size 432x288 with 1 Axes>"
      ]
     },
     "metadata": {
      "image/png": {
       "height": 281,
       "width": 389
      },
      "needs_background": "light"
     },
     "output_type": "display_data"
    }
   ],
   "source": [
    "plt.figure(figsize=(6, 4))\n",
    "xx = np.linspace(0, 1, 50)\n",
    "plt.plot(xx, [2 * x * (1 - x) for x in xx], label=\"gini\")\n",
    "plt.plot(xx, [4 * x * (1 - x) for x in xx], label=\"2*gini\")\n",
    "plt.plot(xx, [-x * np.log2(x) - (1 - x) * np.log2(1 - x) for x in xx], label=\"entropy\")\n",
    "plt.plot(xx, [1 - max(x, 1 - x) for x in xx], label=\"missclass\")\n",
    "plt.plot(xx, [2 - 2 * max(x, 1 - x) for x in xx], label=\"2*missclass\")\n",
    "plt.xlabel(\"p+\")\n",
    "plt.ylabel(\"criterion\")\n",
    "plt.title(\"Criteria of quality as a function of p+ (binary classification)\")\n",
    "plt.legend();"
   ]
  },
  {
   "cell_type": "markdown",
   "id": "2ee54636",
   "metadata": {},
   "source": [
    "**Árbol de decisiones para valores numéricos**"
   ]
  },
  {
   "cell_type": "markdown",
   "id": "4f5de7b1",
   "metadata": {},
   "source": [
    "Supongamos que tenemos una característica numérica llamada \"Edad\" que tiene muchas valores únicos. Un árbol de decisión buscará la mejor división (según algún criterio de ganancia de información) mediante la verificación de atributos binarios como \"Edad <17\", \"Edad < 22.87\", y así sucesivamente. Pero, ¿qué sucede si el rango de edades es amplio? O, ¿qué sucede si otra variable cuantitativa, \"salario\", también puede \"dividirse\" de muchas maneras? Habrá demasiados atributos binarios para seleccionar en cada paso durante la construcción del árbol. Para resolver este problema, generalmente se utilizan heurísticas para limitar el número de umbrales con los que comparamos la variable cuantitativa.\n",
    "\n",
    "Consideremos un ejemplo. Supongamos que tenemos el siguiente conjunto de datos:"
   ]
  },
  {
   "cell_type": "code",
   "execution_count": 12,
   "id": "f7b0cd37",
   "metadata": {},
   "outputs": [
    {
     "data": {
      "text/html": [
       "<div>\n",
       "<style scoped>\n",
       "    .dataframe tbody tr th:only-of-type {\n",
       "        vertical-align: middle;\n",
       "    }\n",
       "\n",
       "    .dataframe tbody tr th {\n",
       "        vertical-align: top;\n",
       "    }\n",
       "\n",
       "    .dataframe thead th {\n",
       "        text-align: right;\n",
       "    }\n",
       "</style>\n",
       "<table border=\"1\" class=\"dataframe\">\n",
       "  <thead>\n",
       "    <tr style=\"text-align: right;\">\n",
       "      <th></th>\n",
       "      <th>Age</th>\n",
       "      <th>Loan Default</th>\n",
       "    </tr>\n",
       "  </thead>\n",
       "  <tbody>\n",
       "    <tr>\n",
       "      <th>0</th>\n",
       "      <td>17</td>\n",
       "      <td>1</td>\n",
       "    </tr>\n",
       "    <tr>\n",
       "      <th>1</th>\n",
       "      <td>64</td>\n",
       "      <td>0</td>\n",
       "    </tr>\n",
       "    <tr>\n",
       "      <th>2</th>\n",
       "      <td>18</td>\n",
       "      <td>1</td>\n",
       "    </tr>\n",
       "    <tr>\n",
       "      <th>3</th>\n",
       "      <td>20</td>\n",
       "      <td>0</td>\n",
       "    </tr>\n",
       "    <tr>\n",
       "      <th>4</th>\n",
       "      <td>38</td>\n",
       "      <td>1</td>\n",
       "    </tr>\n",
       "    <tr>\n",
       "      <th>5</th>\n",
       "      <td>49</td>\n",
       "      <td>0</td>\n",
       "    </tr>\n",
       "    <tr>\n",
       "      <th>6</th>\n",
       "      <td>55</td>\n",
       "      <td>0</td>\n",
       "    </tr>\n",
       "    <tr>\n",
       "      <th>7</th>\n",
       "      <td>25</td>\n",
       "      <td>1</td>\n",
       "    </tr>\n",
       "    <tr>\n",
       "      <th>8</th>\n",
       "      <td>29</td>\n",
       "      <td>1</td>\n",
       "    </tr>\n",
       "    <tr>\n",
       "      <th>9</th>\n",
       "      <td>31</td>\n",
       "      <td>0</td>\n",
       "    </tr>\n",
       "    <tr>\n",
       "      <th>10</th>\n",
       "      <td>33</td>\n",
       "      <td>1</td>\n",
       "    </tr>\n",
       "  </tbody>\n",
       "</table>\n",
       "</div>"
      ],
      "text/plain": [
       "    Age  Loan Default\n",
       "0    17             1\n",
       "1    64             0\n",
       "2    18             1\n",
       "3    20             0\n",
       "4    38             1\n",
       "5    49             0\n",
       "6    55             0\n",
       "7    25             1\n",
       "8    29             1\n",
       "9    31             0\n",
       "10   33             1"
      ]
     },
     "execution_count": 12,
     "metadata": {},
     "output_type": "execute_result"
    }
   ],
   "source": [
    "data = pd.DataFrame(\n",
    "    {\n",
    "        \"Age\": [17, 64, 18, 20, 38, 49, 55, 25, 29, 31, 33],\n",
    "        \"Loan Default\": [1, 0, 1, 0, 1, 0, 0, 1, 1, 0, 1],\n",
    "    }\n",
    ")\n",
    "data"
   ]
  },
  {
   "cell_type": "code",
   "execution_count": 13,
   "id": "b1ed31b1",
   "metadata": {},
   "outputs": [
    {
     "data": {
      "text/html": [
       "<div>\n",
       "<style scoped>\n",
       "    .dataframe tbody tr th:only-of-type {\n",
       "        vertical-align: middle;\n",
       "    }\n",
       "\n",
       "    .dataframe tbody tr th {\n",
       "        vertical-align: top;\n",
       "    }\n",
       "\n",
       "    .dataframe thead th {\n",
       "        text-align: right;\n",
       "    }\n",
       "</style>\n",
       "<table border=\"1\" class=\"dataframe\">\n",
       "  <thead>\n",
       "    <tr style=\"text-align: right;\">\n",
       "      <th></th>\n",
       "      <th>Age</th>\n",
       "      <th>Loan Default</th>\n",
       "    </tr>\n",
       "  </thead>\n",
       "  <tbody>\n",
       "    <tr>\n",
       "      <th>0</th>\n",
       "      <td>17</td>\n",
       "      <td>1</td>\n",
       "    </tr>\n",
       "    <tr>\n",
       "      <th>2</th>\n",
       "      <td>18</td>\n",
       "      <td>1</td>\n",
       "    </tr>\n",
       "    <tr>\n",
       "      <th>3</th>\n",
       "      <td>20</td>\n",
       "      <td>0</td>\n",
       "    </tr>\n",
       "    <tr>\n",
       "      <th>7</th>\n",
       "      <td>25</td>\n",
       "      <td>1</td>\n",
       "    </tr>\n",
       "    <tr>\n",
       "      <th>8</th>\n",
       "      <td>29</td>\n",
       "      <td>1</td>\n",
       "    </tr>\n",
       "    <tr>\n",
       "      <th>9</th>\n",
       "      <td>31</td>\n",
       "      <td>0</td>\n",
       "    </tr>\n",
       "    <tr>\n",
       "      <th>10</th>\n",
       "      <td>33</td>\n",
       "      <td>1</td>\n",
       "    </tr>\n",
       "    <tr>\n",
       "      <th>4</th>\n",
       "      <td>38</td>\n",
       "      <td>1</td>\n",
       "    </tr>\n",
       "    <tr>\n",
       "      <th>5</th>\n",
       "      <td>49</td>\n",
       "      <td>0</td>\n",
       "    </tr>\n",
       "    <tr>\n",
       "      <th>6</th>\n",
       "      <td>55</td>\n",
       "      <td>0</td>\n",
       "    </tr>\n",
       "    <tr>\n",
       "      <th>1</th>\n",
       "      <td>64</td>\n",
       "      <td>0</td>\n",
       "    </tr>\n",
       "  </tbody>\n",
       "</table>\n",
       "</div>"
      ],
      "text/plain": [
       "    Age  Loan Default\n",
       "0    17             1\n",
       "2    18             1\n",
       "3    20             0\n",
       "7    25             1\n",
       "8    29             1\n",
       "9    31             0\n",
       "10   33             1\n",
       "4    38             1\n",
       "5    49             0\n",
       "6    55             0\n",
       "1    64             0"
      ]
     },
     "execution_count": 13,
     "metadata": {},
     "output_type": "execute_result"
    }
   ],
   "source": [
    "data.sort_values(\"Age\") #Colocar en orden ascendente"
   ]
  },
  {
   "cell_type": "code",
   "execution_count": 15,
   "id": "e697d82e",
   "metadata": {},
   "outputs": [
    {
     "data": {
      "text/plain": [
       "DecisionTreeClassifier(random_state=17)"
      ]
     },
     "execution_count": 15,
     "metadata": {},
     "output_type": "execute_result"
    }
   ],
   "source": [
    "age_tree = DecisionTreeClassifier(random_state=17)\n",
    "age_tree.fit(data[\"Age\"].values.reshape(-1, 1), data[\"Loan Default\"].values)\n",
    "\n",
    "#tree_graph_to_png(\n",
    " #   age_tree,\n",
    "  #feature_names=[\"Age\"],\n",
    "   # png_file_to_save=\"topic3_decision_tree2.png\",\n",
    "#)\n",
    "\n",
    "#Falta instalar Grapvhiz para las graficas"
   ]
  },
  {
   "cell_type": "markdown",
   "id": "98106473",
   "metadata": {},
   "source": [
    "![](https://mlcourse.ai/_images/topic3_decision_tree2.png)"
   ]
  },
  {
   "cell_type": "markdown",
   "id": "fbc9ee5e",
   "metadata": {},
   "source": [
    "Observamos que el árbol utilizó los siguientes 5 valores para evaluar por edad: 43.5, 19, 22.5, 30 y 32 años. Si observas detenidamente, estos son exactamente los valores medios entre las edades en las que la clase objetivo cambia de 1 a 0 o de 0 a 1. Para ilustrar aún más, 43.5 es el promedio de 38 y 49 años; un cliente de 38 años no devolvió el préstamo mientras que uno de 49 años sí lo hizo. El árbol busca los valores en los que la clase objetivo cambia su valor como umbral para \"dividir\" una variable cuantitativa.\n",
    "\n",
    "Dado esta información, ¿por qué crees que no tiene sentido considerar una característica como \"Edad <17.5\"?\n",
    "\n",
    "Consideremos un ejemplo más complejo al agregar la variable \"Salario\" (en miles de dólares al año)."
   ]
  },
  {
   "cell_type": "code",
   "execution_count": 16,
   "id": "d8e4d04e",
   "metadata": {},
   "outputs": [
    {
     "data": {
      "text/html": [
       "<div>\n",
       "<style scoped>\n",
       "    .dataframe tbody tr th:only-of-type {\n",
       "        vertical-align: middle;\n",
       "    }\n",
       "\n",
       "    .dataframe tbody tr th {\n",
       "        vertical-align: top;\n",
       "    }\n",
       "\n",
       "    .dataframe thead th {\n",
       "        text-align: right;\n",
       "    }\n",
       "</style>\n",
       "<table border=\"1\" class=\"dataframe\">\n",
       "  <thead>\n",
       "    <tr style=\"text-align: right;\">\n",
       "      <th></th>\n",
       "      <th>Age</th>\n",
       "      <th>Salary</th>\n",
       "      <th>Loan Default</th>\n",
       "    </tr>\n",
       "  </thead>\n",
       "  <tbody>\n",
       "    <tr>\n",
       "      <th>0</th>\n",
       "      <td>17</td>\n",
       "      <td>25</td>\n",
       "      <td>1</td>\n",
       "    </tr>\n",
       "    <tr>\n",
       "      <th>1</th>\n",
       "      <td>64</td>\n",
       "      <td>80</td>\n",
       "      <td>0</td>\n",
       "    </tr>\n",
       "    <tr>\n",
       "      <th>2</th>\n",
       "      <td>18</td>\n",
       "      <td>22</td>\n",
       "      <td>1</td>\n",
       "    </tr>\n",
       "    <tr>\n",
       "      <th>3</th>\n",
       "      <td>20</td>\n",
       "      <td>36</td>\n",
       "      <td>0</td>\n",
       "    </tr>\n",
       "    <tr>\n",
       "      <th>4</th>\n",
       "      <td>38</td>\n",
       "      <td>37</td>\n",
       "      <td>1</td>\n",
       "    </tr>\n",
       "    <tr>\n",
       "      <th>5</th>\n",
       "      <td>49</td>\n",
       "      <td>59</td>\n",
       "      <td>0</td>\n",
       "    </tr>\n",
       "    <tr>\n",
       "      <th>6</th>\n",
       "      <td>55</td>\n",
       "      <td>74</td>\n",
       "      <td>0</td>\n",
       "    </tr>\n",
       "    <tr>\n",
       "      <th>7</th>\n",
       "      <td>25</td>\n",
       "      <td>70</td>\n",
       "      <td>1</td>\n",
       "    </tr>\n",
       "    <tr>\n",
       "      <th>8</th>\n",
       "      <td>29</td>\n",
       "      <td>33</td>\n",
       "      <td>1</td>\n",
       "    </tr>\n",
       "    <tr>\n",
       "      <th>9</th>\n",
       "      <td>31</td>\n",
       "      <td>102</td>\n",
       "      <td>0</td>\n",
       "    </tr>\n",
       "    <tr>\n",
       "      <th>10</th>\n",
       "      <td>33</td>\n",
       "      <td>88</td>\n",
       "      <td>1</td>\n",
       "    </tr>\n",
       "  </tbody>\n",
       "</table>\n",
       "</div>"
      ],
      "text/plain": [
       "    Age  Salary  Loan Default\n",
       "0    17      25             1\n",
       "1    64      80             0\n",
       "2    18      22             1\n",
       "3    20      36             0\n",
       "4    38      37             1\n",
       "5    49      59             0\n",
       "6    55      74             0\n",
       "7    25      70             1\n",
       "8    29      33             1\n",
       "9    31     102             0\n",
       "10   33      88             1"
      ]
     },
     "execution_count": 16,
     "metadata": {},
     "output_type": "execute_result"
    }
   ],
   "source": [
    "data2 = pd.DataFrame(\n",
    "    {\n",
    "        \"Age\": [17, 64, 18, 20, 38, 49, 55, 25, 29, 31, 33],\n",
    "        \"Salary\": [25, 80, 22, 36, 37, 59, 74, 70, 33, 102, 88],\n",
    "        \"Loan Default\": [1, 0, 1, 0, 1, 0, 0, 1, 1, 0, 1],\n",
    "    }\n",
    ")\n",
    "data2"
   ]
  },
  {
   "cell_type": "code",
   "execution_count": 17,
   "id": "a1b89d1a",
   "metadata": {},
   "outputs": [
    {
     "data": {
      "text/html": [
       "<div>\n",
       "<style scoped>\n",
       "    .dataframe tbody tr th:only-of-type {\n",
       "        vertical-align: middle;\n",
       "    }\n",
       "\n",
       "    .dataframe tbody tr th {\n",
       "        vertical-align: top;\n",
       "    }\n",
       "\n",
       "    .dataframe thead th {\n",
       "        text-align: right;\n",
       "    }\n",
       "</style>\n",
       "<table border=\"1\" class=\"dataframe\">\n",
       "  <thead>\n",
       "    <tr style=\"text-align: right;\">\n",
       "      <th></th>\n",
       "      <th>Age</th>\n",
       "      <th>Salary</th>\n",
       "      <th>Loan Default</th>\n",
       "    </tr>\n",
       "  </thead>\n",
       "  <tbody>\n",
       "    <tr>\n",
       "      <th>0</th>\n",
       "      <td>17</td>\n",
       "      <td>25</td>\n",
       "      <td>1</td>\n",
       "    </tr>\n",
       "    <tr>\n",
       "      <th>2</th>\n",
       "      <td>18</td>\n",
       "      <td>22</td>\n",
       "      <td>1</td>\n",
       "    </tr>\n",
       "    <tr>\n",
       "      <th>3</th>\n",
       "      <td>20</td>\n",
       "      <td>36</td>\n",
       "      <td>0</td>\n",
       "    </tr>\n",
       "    <tr>\n",
       "      <th>7</th>\n",
       "      <td>25</td>\n",
       "      <td>70</td>\n",
       "      <td>1</td>\n",
       "    </tr>\n",
       "    <tr>\n",
       "      <th>8</th>\n",
       "      <td>29</td>\n",
       "      <td>33</td>\n",
       "      <td>1</td>\n",
       "    </tr>\n",
       "    <tr>\n",
       "      <th>9</th>\n",
       "      <td>31</td>\n",
       "      <td>102</td>\n",
       "      <td>0</td>\n",
       "    </tr>\n",
       "    <tr>\n",
       "      <th>10</th>\n",
       "      <td>33</td>\n",
       "      <td>88</td>\n",
       "      <td>1</td>\n",
       "    </tr>\n",
       "    <tr>\n",
       "      <th>4</th>\n",
       "      <td>38</td>\n",
       "      <td>37</td>\n",
       "      <td>1</td>\n",
       "    </tr>\n",
       "    <tr>\n",
       "      <th>5</th>\n",
       "      <td>49</td>\n",
       "      <td>59</td>\n",
       "      <td>0</td>\n",
       "    </tr>\n",
       "    <tr>\n",
       "      <th>6</th>\n",
       "      <td>55</td>\n",
       "      <td>74</td>\n",
       "      <td>0</td>\n",
       "    </tr>\n",
       "    <tr>\n",
       "      <th>1</th>\n",
       "      <td>64</td>\n",
       "      <td>80</td>\n",
       "      <td>0</td>\n",
       "    </tr>\n",
       "  </tbody>\n",
       "</table>\n",
       "</div>"
      ],
      "text/plain": [
       "    Age  Salary  Loan Default\n",
       "0    17      25             1\n",
       "2    18      22             1\n",
       "3    20      36             0\n",
       "7    25      70             1\n",
       "8    29      33             1\n",
       "9    31     102             0\n",
       "10   33      88             1\n",
       "4    38      37             1\n",
       "5    49      59             0\n",
       "6    55      74             0\n",
       "1    64      80             0"
      ]
     },
     "execution_count": 17,
     "metadata": {},
     "output_type": "execute_result"
    }
   ],
   "source": [
    "data2.sort_values(\"Age\")"
   ]
  },
  {
   "cell_type": "code",
   "execution_count": 18,
   "id": "4ae8ea74",
   "metadata": {},
   "outputs": [],
   "source": [
    "age_sal_tree = DecisionTreeClassifier(random_state=17)\n",
    "age_sal_tree.fit(data2[[\"Age\", \"Salary\"]].values, data2[\"Loan Default\"].values);"
   ]
  },
  {
   "cell_type": "code",
   "execution_count": 19,
   "id": "5246d33c",
   "metadata": {},
   "outputs": [],
   "source": [
    "#tree_graph_to_png(\n",
    " #   tree=age_sal_tree,\n",
    "  #  feature_names=[\"Age\", \"Salary\"],\n",
    "   # png_file_to_save=\"topic3_decision_tree3.png\",\n",
    "#)"
   ]
  },
  {
   "cell_type": "markdown",
   "id": "943d27a8",
   "metadata": {},
   "source": [
    "![](https://mlcourse.ai/_images/topic3_decision_tree3.png)"
   ]
  },
  {
   "cell_type": "markdown",
   "id": "0cc02b8d",
   "metadata": {},
   "source": [
    "Vemos que el árbol ha realizado particiones tanto por salario como por edad. Además, los umbrales para las comparaciones de características son 43.5 y 22.5 años de edad y 95,000 y 30,500 dólares al año. Nuevamente, vemos que 95 es el promedio entre 88 y 102; la persona con un salario de 88,000 demostró ser \"mala\" mientras que la que tenía 102,000 fue \"buena\". Lo mismo ocurre con 30,500. Es decir, solo se buscaron unos pocos valores para las comparaciones por edad y salario. \n",
    "\n",
    "Conclusión: La heurística más simple para manejar características numéricas en un árbol de decisión es ordenar sus valores en orden ascendente y verificar solo aquellos umbrales donde cambia el valor de la variable objetivo.\n",
    "\n",
    "Además, cuando hay muchas características numéricas en un conjunto de datos, cada una con muchos valores únicos, solo se seleccionan los mejores umbrales top-N descritos anteriormente, es decir, solo se utilizan los top-N que proporcionan la ganancia máxima. El proceso consiste en construir un árbol de profundidad 1, calcular la entropía (o incertidumbre de Gini) y seleccionar los mejores umbrales para la comparación."
   ]
  },
  {
   "cell_type": "markdown",
   "id": "ce4d6ca4",
   "metadata": {},
   "source": [
    "**Parámetros Cruciales del Árbol**"
   ]
  },
  {
   "cell_type": "markdown",
   "id": "4d5e4cef",
   "metadata": {},
   "source": [
    "Construir un árbol de decisión con una hoja para cada instancia individual es técnicamente posible pero poco común en la práctica, ya que conduce al sobreajuste, lo que significa que el árbol estará demasiado adaptado al conjunto de entrenamiento y no será capaz de predecir correctamente las etiquetas para nuevos datos. Además, en las capas más profundas del árbol, se pueden encontrar divisiones basadas en características menos importantes, lo que puede llevar a reglas extremadamente específicas e inútiles, como en el ejemplo de los clientes con pantalones verdes que no devolvieron el préstamo. En general, deseamos evitar que nuestro modelo de clasificación genere reglas excesivamente específicas."
   ]
  },
  {
   "cell_type": "markdown",
   "id": "c8e8eb32",
   "metadata": {},
   "source": [
    "Existen dos excepciones en las que los árboles se construyen hasta la máxima profundidad:\n",
    "\n",
    "- Random Forest (un grupo de árboles) promedia las respuestas de los árboles individuales que se construyen hasta la máxima profundidad.\n",
    "\n",
    "- Pruning trees: En este enfoque, el árbol se construye primero hasta la máxima profundidad. Luego, de abajo hacia arriba, se eliminan algunos nodos del árbol al comparar la calidad del árbol con y sin esa partición."
   ]
  },
  {
   "cell_type": "markdown",
   "id": "c10f6d8c",
   "metadata": {},
   "source": [
    "\n",
    "Las formas más comunes de lidiar con el sobreajuste en los árboles de decisión son las siguientes:\n",
    "\n",
    "- Limitación artificial de la profundidad o un número mínimo de muestras en las hojas: la construcción del árbol simplemente se detiene en algún punto.\n",
    "\n",
    "- Pruning thhe treee."
   ]
  },
  {
   "cell_type": "markdown",
   "id": "0b8d90d5",
   "metadata": {},
   "source": [
    "**Class `DecisionTreeClassifier` en Scikit-learn**"
   ]
  },
  {
   "cell_type": "markdown",
   "id": "7157466a",
   "metadata": {},
   "source": [
    "Los principales parámetros de la clase `sklearn.tree.DecisionTreeClassifier` son los siguientes:\n",
    "\n",
    "- `max_depth`: la máxima profundidad del árbol.\n",
    "- `max_features`: el número máximo de características con las que buscar la mejor partición (esto es necesario cuando hay muchas características, ya que sería \"costoso\" buscar particiones para todas las características).\n",
    "- `min_samples_leaf`: el número mínimo de muestras en una hoja. Este parámetro evita la creación de árboles en los que cualquier hoja tenga solo unos pocos miembros.\n",
    "\n",
    "Los parámetros del árbol deben configurarse según los datos de entrada, y generalmente se hacen mediante validación cruzada, como se describe más adelante."
   ]
  },
  {
   "cell_type": "markdown",
   "id": "34d06f2a",
   "metadata": {},
   "source": [
    "**Decision Tree en Problema de Regresión**"
   ]
  },
  {
   "cell_type": "markdown",
   "id": "b9aaaa3c",
   "metadata": {},
   "source": [
    "Cuando se realiza la predicción de una variable numérica, la idea de construcción del árbol sigue siendo la misma, pero el criterio de calidad cambia:"
   ]
  },
  {
   "cell_type": "markdown",
   "id": "6539fcbd",
   "metadata": {},
   "source": [
    "- Varianza:\n",
    "$$D = \\frac{1}{l} \\sum_{i=1}^{l}(y_i - \\frac{1}{l} \\sum_{j=1}^{l}y_j)^2$$"
   ]
  },
  {
   "cell_type": "markdown",
   "id": "b7b29d77",
   "metadata": {},
   "source": [
    "Donde $l$ es el número de muestras en una hoja y $y_i$ es el valor de la variable objetivo. En pocas palabras, al minimizar la varianza, buscamos características que dividan el conjunto de entrenamiento de tal manera que los valores de la característica objetivo en cada hoja sean aproximadamente iguales."
   ]
  },
  {
   "cell_type": "markdown",
   "id": "9edb9dd5",
   "metadata": {},
   "source": [
    "Considerando la sigueinte función: $f(x)=e^{-x^2}+1.5e^{-(x-2)^2}$"
   ]
  },
  {
   "cell_type": "code",
   "execution_count": 28,
   "id": "577d4dd0",
   "metadata": {},
   "outputs": [
    {
     "data": {
      "image/png": "[encoded data removed]",
      "text/plain": [
       "<Figure size 720x432 with 1 Axes>"
      ]
     },
     "metadata": {
      "image/png": {
       "height": 375,
       "width": 609
      },
      "needs_background": "light"
     },
     "output_type": "display_data"
    }
   ],
   "source": [
    "n_train = 150\n",
    "n_test = 1000\n",
    "noise = 0.1\n",
    "\n",
    "\n",
    "def f(x):\n",
    "    x = x.ravel()\n",
    "    return np.exp(-(x ** 2)) + 1.5 * np.exp(-((x - 2) ** 2))\n",
    "\n",
    "\n",
    "def generate(n_samples, noise):\n",
    "    X = np.random.rand(n_samples) * 10 - 5\n",
    "    X = np.sort(X).ravel()\n",
    "    y = (\n",
    "        np.exp(-(X ** 2))\n",
    "        + 1.5 * np.exp(-((X - 2) ** 2))\n",
    "        + np.random.normal(0.0, noise, n_samples)\n",
    "    )\n",
    "    X = X.reshape((n_samples, 1))\n",
    "    return X, y\n",
    "\n",
    "\n",
    "X_train, y_train = generate(n_samples=n_train, noise=noise)\n",
    "X_test, y_test = generate(n_samples=n_test, noise=noise)\n",
    "\n",
    "from sklearn.tree import DecisionTreeRegressor\n",
    "\n",
    "reg_tree = DecisionTreeRegressor(max_depth=5, random_state=17)\n",
    "\n",
    "reg_tree.fit(X_train, y_train)\n",
    "reg_tree_pred = reg_tree.predict(X_test)\n",
    "\n",
    "plt.figure(figsize=(10, 6))\n",
    "plt.plot(X_test, f(X_test), \"b\")\n",
    "plt.scatter(X_train, y_train, c=\"b\", s=20)\n",
    "plt.plot(X_test, reg_tree_pred, \"g\", lw=2)\n",
    "plt.xlim([-5, 5])\n",
    "plt.title(\n",
    "    \"Decision tree regressor, MSE = %.2f\"\n",
    "    % (np.sum((y_test - reg_tree_pred) ** 2) / n_test)\n",
    ")\n",
    "plt.show()"
   ]
  },
  {
   "cell_type": "markdown",
   "id": "ca5167a4",
   "metadata": {},
   "source": [
    "Observamos que el árbol de decisión aproxima los datos con una función constante por tramos."
   ]
  },
  {
   "cell_type": "markdown",
   "id": "4c6397c2",
   "metadata": {},
   "source": [
    "## 3. Nearest Neighbors Method"
   ]
  },
  {
   "cell_type": "markdown",
   "id": "07096412",
   "metadata": {},
   "source": [
    "El método de los vecinos más cercanos (k-Nearest Neighbors, o k-NN) es otro método de clasificación muy popular que a veces también se utiliza en problemas de regresión. Al igual que los árboles de decisión, este es uno de los enfoques más comprensibles para la clasificación. La intuición subyacente es que te pareces a tus vecinos. Más formalmente, el método sigue la hipótesis de la compacidad: si la distancia entre los ejemplos se mide lo suficientemente bien, entonces es mucho más probable que ejemplos similares pertenezcan a la misma clase."
   ]
  },
  {
   "cell_type": "markdown",
   "id": "3d3afa6a",
   "metadata": {},
   "source": [
    "Ejemplo: Si no sabes cómo etiquetar un auricular Bluetooth en una lista en línea, puedes encontrar 5 auriculares similares y, si 4 de ellos están etiquetados como \"accesorios\" y solo 1 como \"Tecnología\", entonces también lo etiquetarás como \"accesorios\"."
   ]
  },
  {
   "cell_type": "markdown",
   "id": "2869e6e5",
   "metadata": {},
   "source": [
    "Para clasificar cada muestra del conjunto de prueba, es necesario realizar las siguientes operaciones en orden:\n",
    "\n",
    "1. Calcular la distancia a cada una de las muestras en el conjunto de entrenamiento.\n",
    "\n",
    "2. Seleccionar $k$ muestras del conjunto de entrenamiento con la distancia mínima a ellas.\n",
    "\n",
    "3. La clase de la muestra de prueba será la clase más frecuente entre esos $k$ vecinos más cercanos.\n",
    "\n",
    "El método se adapta fácilmente a problemas de regresión: en el paso 3, no devuelve la clase, sino el número, que es la media (o mediana) de la variable objetivo entre los vecinos.\n",
    "\n",
    "Una característica notable de este enfoque es su \"pereza\" (lazy en inglés) ya que los cálculos se realizan solo durante la fase de predicción, cuando se necesita clasificar una muestra de prueba. No se construye ningún modelo a partir de los ejemplos de entrenamiento de antemano. En contraste, el árbol se construye en función del conjunto de entrenamiento, y la clasificación de casos de prueba ocurre relativamente rápido al atravesar el árbol.\n",
    "\n",
    "Los vecinos más cercanos es un enfoque ampliamente estudiado. Existen muchos teoremas importantes que afirman que, en conjuntos de datos \"infinitos\", es el método óptimo de clasificación. Los autores del libro clásico \"The Elements of Statistical Learning\" consideran que k-NN es un algoritmo teóricamente ideal cuyo uso solo está limitado por la capacidad de cálculo y el problema de la maldición de la dimensionalidad."
   ]
  },
  {
   "cell_type": "markdown",
   "id": "13333fe6",
   "metadata": {},
   "source": [
    "**Nearest Neighbors Method en Aplicaciones Reales**"
   ]
  },
  {
   "cell_type": "markdown",
   "id": "d1cd04fb",
   "metadata": {},
   "source": [
    "- El método k-NN puede servir como un buen punto de partida (baseline) en algunos casos.\n",
    "\n",
    "- En competencias de Kaggle, a menudo se utiliza k-NN para la construcción de meta-características (es decir, predicciones de k-NN como entrada para otros modelos) o para stacking/blending.\n",
    "\n",
    "- El método de los vecinos más cercanos se extiende a otras tareas como sistemas de recomendación. La decisión inicial podría ser una recomendación de un producto (o servicio) que es popular entre los vecinos más cercanos de la persona a la que queremos hacer una recomendación.\n",
    "\n",
    "- En la práctica, en conjuntos de datos grandes, a menudo se utilizan métodos aproximados de búsqueda para encontrar los vecinos más cercanos. Existen varias bibliotecas de código abierto que implementan estos algoritmos; puedes consultar la biblioteca Annoy de Spotify como ejemplo.\n",
    "\n",
    "La calidad de la clasificación/regresión con k-NN depende de varios parámetros:\n",
    "\n",
    "1. El número de vecinos $k$.\n",
    "\n",
    "2. La medida de distancia entre las muestras (las comunes incluyen distancias Hamming, Euclidiana, del coseno y Minkowski). Es importante destacar que la mayoría de estas métricas requieren que los datos estén escalados. En otras palabras, no queremos que la característica \"salario\", que está en el orden de miles, afecte más a la distancia que \"edad\", que generalmente es menor de 100.\n",
    "\n",
    "3. Pesos de los vecinos (cada vecino puede contribuir con pesos diferentes; por ejemplo, cuanto más lejos esté la muestra, menor será el peso)."
   ]
  },
  {
   "cell_type": "markdown",
   "id": "61275a0c",
   "metadata": {},
   "source": [
    "**Class `KNeighborsClassifier` in Scikit-learn**"
   ]
  },
  {
   "cell_type": "markdown",
   "id": "1574e83c",
   "metadata": {},
   "source": [
    "Los principales parámetros de la clase `sklearn.neighbors.KNeighborsClassifier` son los siguientes:\n",
    "\n",
    "- weights: `uniform` (todos los pesos son iguales), `distancia` (el peso es inversamente proporcional a la distancia desde la muestra de prueba) u otra función definida por el usuario.\n",
    "\n",
    "- algorithm (opcional): `brute`, `ball_tree`, `KD_tree` o `auto`. En el primer caso, los vecinos más cercanos para cada caso de prueba se calculan mediante una búsqueda en cuadrícula sobre el conjunto de entrenamiento. En los casos segundo y tercero, las distancias entre los ejemplos se almacenan en un árbol para acelerar la búsqueda de los vecinos más cercanos. Si configuras este parámetro en auto, la forma adecuada de encontrar los vecinos se elegirá automáticamente en función del conjunto de entrenamiento.\n",
    "\n",
    "- leaf_size (opcional): umbral para cambiar a la búsqueda en cuadrícula si el algoritmo para encontrar vecinos es BallTree o KDTree.\n",
    "\n",
    "- metric: `minkowski`, `manhattan`, `euclidean`, `chebyshev` u otra métrica de distancia."
   ]
  },
  {
   "cell_type": "markdown",
   "id": "3573e508",
   "metadata": {},
   "source": [
    "## 4. Seleccionando Parámetros del Modelo y Validación Cruzada"
   ]
  },
  {
   "cell_type": "markdown",
   "id": "86941247",
   "metadata": {},
   "source": [
    "La tarea principal de los algoritmos de aprendizaje es poder generalizar a datos no vistos previamente. Dado que no podemos comprobar de inmediato el rendimiento del modelo en datos nuevos que llegan (porque aún no conocemos los valores reales de la variable objetivo), es necesario sacrificar una pequeña parte de los datos para verificar la calidad del modelo en ellos.\n",
    "\n",
    "Esto se hace a menudo de una de dos maneras:\n",
    "\n",
    "- Reservando una parte del conjunto de datos (held-out/hold-out set). De esta manera, reservamos una fracción del conjunto de entrenamiento (generalmente del 20% al 40%), entrenamos el modelo en los datos restantes (el 60-80% del conjunto original) y calculamos métricas de rendimiento para el modelo (por ejemplo, precisión) en el conjunto de retención.\n",
    "\n",
    "- Validación cruzada (cross-validation). El caso más frecuente aquí es la validación cruzada k-fold."
   ]
  },
  {
   "cell_type": "markdown",
   "id": "73a13950",
   "metadata": {},
   "source": [
    "![](https://mlcourse.ai/_images/cross_validation.png)"
   ]
  },
  {
   "cell_type": "markdown",
   "id": "fd1e26b4",
   "metadata": {},
   "source": [
    "En la validación cruzada k-fold, el modelo se entrena k veces en diferentes subconjuntos (k) del conjunto de datos original (en blanco) y se verifica en el subconjunto restante (cada vez uno diferente, mostrado arriba en naranja). Obtenemos k evaluaciones de calidad del modelo que generalmente se promedian para obtener una calidad general promedio de clasificación/regresión.\n",
    "\n",
    "La validación cruzada proporciona una mejor evaluación de la calidad del modelo en nuevos datos en comparación con el enfoque del conjunto de retención. Sin embargo, la validación cruzada es computacionalmente costosa cuando se tiene muchos datos.\n",
    "\n",
    "La validación cruzada es una técnica muy importante en el aprendizaje automático y también se puede aplicar en estadísticas y econometría. Ayuda con la optimización de hiperparámetros, la comparación de modelos, la evaluación de características, etc."
   ]
  },
  {
   "cell_type": "markdown",
   "id": "f3060e28",
   "metadata": {},
   "source": [
    "## 5. Pros y contras"
   ]
  },
  {
   "cell_type": "markdown",
   "id": "b7419bb8",
   "metadata": {},
   "source": [
    "### 5.1 Decision Trees"
   ]
  },
  {
   "cell_type": "markdown",
   "id": "ede111f4",
   "metadata": {},
   "source": [
    "**Pros:**\n",
    "\n",
    "- Generación de reglas de clasificación claras y comprensibles para los humanos, por ejemplo, \"si la edad es <25 y está interesado en motocicletas, denegar el préstamo\". Esta propiedad se llama interpretabilidad del modelo.\n",
    "- Los árboles de decisión se pueden visualizar fácilmente, es decir, tanto el modelo en sí (el árbol) como la predicción para un objeto de prueba específico (un camino en el árbol) se pueden \"interpretar\".\n",
    "- Entrenamiento y pronóstico rápidos.\n",
    "- Pequeño número de parámetros del modelo.\n",
    "- Admite características numéricas y categóricas.\n",
    "\n",
    "**Cons:**\n",
    "\n",
    "- Los árboles son muy sensibles al ruido en los datos de entrada; todo el modelo podría cambiar si el conjunto de entrenamiento se modifica ligeramente (por ejemplo, se elimina una característica, se agregan algunos objetos). Esto afecta la interpretabilidad del modelo.\n",
    "- La frontera de separación construida por un árbol de decisión tiene limitaciones: consiste en hiperplanos perpendiculares a uno de los ejes de coordenadas, lo que es inferior en calidad a algunos otros métodos en la práctica.\n",
    "- Necesitamos evitar el sobreajuste mediante la poda, estableciendo un número mínimo de muestras en cada hoja o definiendo una profundidad máxima para el árbol. Tenga en cuenta que el sobreajuste es un problema para todos los métodos de aprendizaje automático.\n",
    "- Inestabilidad. Pequeños cambios en los datos pueden cambiar significativamente el árbol de decisión. Este problema se aborda con conjuntos de árboles de decisión (discutidos la próxima vez).\n",
    "- El problema de búsqueda de árbol de decisión óptimo es NP-completo. En la práctica, se utilizan algunas heurísticas, como la búsqueda codiciosa de una característica con la ganancia de información máxima, pero no garantiza encontrar el árbol óptimo globalmente.\n",
    "- Dificultades para admitir valores faltantes en los datos. Friedman estimó que se requería aproximadamente el 50% del código para admitir brechas en los datos en CART (una versión mejorada de este algoritmo se implementa en sklearn).\n",
    "- El modelo solo puede interpolar pero no extrapolar (lo mismo es cierto para bosques aleatorios y aumento de árboles). Es decir, un árbol de decisión realiza una predicción constante para los objetos que se encuentran más allá de la caja delimitadora establecida por el conjunto de entrenamiento en el espacio de características. En nuestro ejemplo con las bolas amarillas y azules, significaría que el modelo da las mismas predicciones para todas las bolas con posiciones >19 o <0."
   ]
  },
  {
   "cell_type": "markdown",
   "id": "f9cfcd63",
   "metadata": {},
   "source": [
    "### 5.2 Nearest Neighbors Method"
   ]
  },
  {
   "cell_type": "markdown",
   "id": "ca07e278",
   "metadata": {},
   "source": [
    "**Pros:**\n",
    "\n",
    "- Implementación sencilla.\n",
    "- Ampliamente estudiado.\n",
    "- Típicamente, el método es una buena primera solución no solo para la clasificación o regresión, sino también para recomendaciones.\n",
    "- Puede adaptarse a un problema específico eligiendo las métricas o el kernel adecuados (en pocas palabras, el kernel puede establecer la operación de similitud para objetos complejos como gráficos mientras mantiene el enfoque k-NN igual).\n",
    "- Buena interpretabilidad. Hay excepciones: si el número de vecinos es grande, la interpretabilidad empeora (\"No le dimos un préstamo porque es similar a los 350 clientes, de los cuales 70 son malos, y eso es un 12% más alto que el promedio para el conjunto de datos\").\n",
    "\n",
    "**Cons:**\n",
    "\n",
    "- El método se considera rápido en comparación con composiciones de algoritmos, pero el número de vecinos utilizados para la clasificación suele ser grande (100-150) en la vida real, en cuyo caso el algoritmo no funcionará tan rápido como un árbol de decisiones.\n",
    "- Si un conjunto de datos tiene muchas variables, es difícil encontrar los pesos adecuados y determinar qué características no son importantes para la clasificación/regresión.\n",
    "- Dependencia de la métrica de distancia seleccionada entre los objetos. La elección de la distancia euclidiana por defecto a menudo no está fundamentada. Puede encontrar una buena solución mediante la búsqueda en cuadrícula de parámetros, pero esto se vuelve muy consumidor de tiempo para conjuntos de datos grandes.\n",
    "- No hay formas teóricas de elegir el número de vecinos, solo búsqueda en cuadrícula (aunque esto a menudo es cierto para todos los hiperparámetros de todos los modelos). En el caso de un pequeño número de vecinos, el método es sensible a los valores atípicos, es decir, tiende al sobreajuste.\n",
    "- Por lo general, no funciona bien cuando hay muchas características debido a la \"maldición de la dimensionalidad\"."
   ]
  }
 ],
 "metadata": {
  "kernelspec": {
   "display_name": "Python 3 (ipykernel)",
   "language": "python",
   "name": "python3"
  },
  "language_info": {
   "codemirror_mode": {
    "name": "ipython",
    "version": 3
   },
   "file_extension": ".py",
   "mimetype": "text/x-python",
   "name": "python",
   "nbconvert_exporter": "python",
   "pygments_lexer": "ipython3",
   "version": "3.9.12"
  }
 },
 "nbformat": 4,
 "nbformat_minor": 5
}
